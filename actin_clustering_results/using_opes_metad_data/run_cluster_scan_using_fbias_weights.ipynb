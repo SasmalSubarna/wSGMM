{
 "cells": [
  {
   "cell_type": "code",
   "execution_count": 1,
   "id": "d9906dc9",
   "metadata": {},
   "outputs": [],
   "source": [
    "import sys\n",
    "import numpy as np\n",
    "import matplotlib.pyplot as plt\n",
    "%matplotlib inline\n",
    "#import pyemma\n",
    "from shapeGMM import gmm_shapes\n",
    "from shapeGMMTorch import torch_sgmm\n",
    "from shapeGMMTorch import scripts\n",
    "import MDAnalysis as md\n",
    "import torch\n",
    "import pickle"
   ]
  },
  {
   "cell_type": "code",
   "execution_count": 6,
   "id": "d203e48a",
   "metadata": {},
   "outputs": [
    {
     "name": "stdout",
     "output_type": "stream",
     "text": [
      "selected atoms: name CA\n",
      "['/scratch/projects/hockygroup/ss12902/posLDA_actin/cluster_opes_data_from_triasha/run_with_v1.6.1/run_with_1us_data/opes_ld1_bf_12.0_barrier_15.0_wrapped_protein_only.trr']\n",
      "1\n",
      "Number of atoms in trajectory: 5835\n",
      "Number of frames in trajectory: 21001\n",
      "Number of atoms being analyzed: 375\n",
      "Number of frames being analyzed: 21001\n"
     ]
    }
   ],
   "source": [
    "# read trajectory data\n",
    "data_path = \"/scratch/projects/hockygroup/ss12902/posLDA_actin/cluster_opes_data_from_triasha/run_with_v1.6.1/run_with_1us_data\"\n",
    "atoms_selection = \"name CA\"\n",
    "print(\"selected atoms:\", atoms_selection)\n",
    "\n",
    "# load data\n",
    "prmtopFileName =  data_path + \"/s1_init_protein_only.gro\"\n",
    "trajFiles = [data_path+\"/opes_ld1_bf_12.0_barrier_15.0_wrapped_protein_only.trr\"]\n",
    "print(trajFiles)\n",
    "print(len(trajFiles))\n",
    "\n",
    "coord = md.Universe(prmtopFileName,trajFiles)\n",
    "sel_atoms = coord.select_atoms(atoms_selection)\n",
    "print(\"Number of atoms in trajectory:\", coord.atoms.n_atoms)\n",
    "print(\"Number of frames in trajectory:\",coord.trajectory.n_frames)\n",
    "print(\"Number of atoms being analyzed:\",sel_atoms.n_atoms)\n",
    "print(\"Number of frames being analyzed:\",coord.trajectory.n_frames)\n",
    "\n",
    "trajData = np.empty((coord.trajectory.n_frames,sel_atoms.n_atoms,3),dtype=float)\n",
    "count = 0\n",
    "\n",
    "# no need to multiply by 10\n",
    "for ts in coord.trajectory:\n",
    "    trajData[count,:,:] = sel_atoms.positions - sel_atoms.center_of_geometry()\n",
    "    count += 1"
   ]
  },
  {
   "cell_type": "code",
   "execution_count": 22,
   "id": "6833e406",
   "metadata": {},
   "outputs": [],
   "source": [
    "## load data from COLVAR\n",
    "time, ld1, cleft_dist, dihedral, opes_bias = np.loadtxt(data_path+\"/COLVAR_EDITED\", usecols=(0,1,2,3,4), unpack=True)\n",
    "\n",
    "time *= 1e-3 # in ns"
   ]
  },
  {
   "cell_type": "code",
   "execution_count": 23,
   "id": "19b5ba77",
   "metadata": {},
   "outputs": [
    {
     "name": "stdout",
     "output_type": "stream",
     "text": [
      "(1050001,)\n",
      "(1050001,)\n"
     ]
    }
   ],
   "source": [
    "print(time.shape)\n",
    "print(opes_bias.shape)"
   ]
  },
  {
   "cell_type": "code",
   "execution_count": 24,
   "id": "b81ea4ca",
   "metadata": {},
   "outputs": [
    {
     "name": "stdout",
     "output_type": "stream",
     "text": [
      "(100,)\n",
      "(100, 100)\n"
     ]
    }
   ],
   "source": [
    "ld1_grids = np.linspace(-41.0, 41.0, 100, endpoint=True)\n",
    "dihedral_grids = np.linspace(-np.pi, np.pi, 100, endpoint=True)\n",
    "print(ld1_grids.shape)\n",
    "\n",
    "# load the final FE from final STATE file  (time=1050ns)\n",
    "fe_state_final = np.loadtxt(data_path+\"/2d_fe_actin_ld1+dihedral.dat\", usecols=2).reshape([100,100])/4.184\n",
    "print(fe_state_final.shape)"
   ]
  },
  {
   "cell_type": "code",
   "execution_count": 25,
   "id": "bda1d775",
   "metadata": {},
   "outputs": [
    {
     "data": {
      "text/plain": [
       "[<matplotlib.lines.Line2D at 0x14a453c2ccd0>]"
      ]
     },
     "execution_count": 25,
     "metadata": {},
     "output_type": "execute_result"
    },
    {
     "data": {
      "image/png": "[encoded data removed]",
      "text/plain": [
       "<Figure size 350x250 with 1 Axes>"
      ]
     },
     "metadata": {},
     "output_type": "display_data"
    }
   ],
   "source": [
    "# find the indices\n",
    "x_indx = np.digitize(ld1, ld1_grids, right=True)\n",
    "y_indx = np.digitize(dihedral, dihedral_grids, right=True)\n",
    "\n",
    "kbt=0.616033 # in kcal/mol unit\n",
    "\n",
    "weights = np.empty(time.shape[0])\n",
    "for i in range(time.shape[0]):\n",
    "    weights[i] = np.exp(-fe_state_final.T[x_indx[i], y_indx[i]]/kbt)\n",
    "    \n",
    "weights /= np.sum(weights)\n",
    "\n",
    "plt.figure(figsize=(3.5,2.5))\n",
    "plt.xlabel(\"Time (ns)\")\n",
    "plt.ylabel(\"Weights\")\n",
    "plt.plot(time, weights)"
   ]
  },
  {
   "cell_type": "code",
   "execution_count": 8,
   "id": "153da5f5",
   "metadata": {},
   "outputs": [
    {
     "name": "stdout",
     "output_type": "stream",
     "text": [
      "#clusters : [1 2 3 4 5 6]\n"
     ]
    }
   ],
   "source": [
    "## define cluster array \n",
    "cluster_array = np.arange(1,7,1).astype(int)\n",
    "print(\"#clusters :\", cluster_array)"
   ]
  },
  {
   "cell_type": "code",
   "execution_count": 7,
   "id": "0f408b17",
   "metadata": {},
   "outputs": [
    {
     "name": "stdout",
     "output_type": "stream",
     "text": [
      "(21001, 375, 3)\n"
     ]
    },
    {
     "ename": "NameError",
     "evalue": "name 'weights' is not defined",
     "output_type": "error",
     "traceback": [
      "\u001b[0;31m---------------------------------------------------------------------------\u001b[0m",
      "\u001b[0;31mNameError\u001b[0m                                 Traceback (most recent call last)",
      "Cell \u001b[0;32mIn[7], line 2\u001b[0m\n\u001b[1;32m      1\u001b[0m \u001b[38;5;28mprint\u001b[39m(trajData\u001b[38;5;241m.\u001b[39mshape)\n\u001b[0;32m----> 2\u001b[0m \u001b[38;5;28mprint\u001b[39m(\u001b[43mweights\u001b[49m[::\u001b[38;5;241m50\u001b[39m]\u001b[38;5;241m.\u001b[39mshape)\n",
      "\u001b[0;31mNameError\u001b[0m: name 'weights' is not defined"
     ]
    }
   ],
   "source": [
    "print(trajData.shape)\n",
    "print(weights[::50].shape)"
   ]
  },
  {
   "cell_type": "markdown",
   "id": "1763c0d4",
   "metadata": {},
   "source": [
    "# Run cluster scan with weights from OPES_METAD simulation"
   ]
  },
  {
   "cell_type": "code",
   "execution_count": 28,
   "id": "f3294eb6",
   "metadata": {
    "scrolled": true
   },
   "outputs": [
    {
     "name": "stdout",
     "output_type": "stream",
     "text": [
      "Number of frames to train each model: 20791\n",
      "Number of frames to predict each model: 210\n",
      "Number of training sets: 4\n",
      "Number of clusters: 6\n",
      "Number of attempts per set/cluster: 10\n",
      "   Training Set      N Clusters         Attempt  Log Like per Frame    CPU Time (s)\n",
      "------------------------------------------------------------------------------------\n",
      "              1               1               1             968.924          43.481\n",
      "              1               2               1            1031.989          41.388\n",
      "              1               2               2            1006.407          65.895\n",
      "              1               2               3            1023.710          56.260\n",
      "              1               2               4            1031.865          43.417\n",
      "              1               2               5            1022.684          57.038\n",
      "              1               2               6            1034.077          45.654\n",
      "              1               2               7            1011.681          63.155\n",
      "              1               2               8            1006.827          60.109\n",
      "              1               2               9            1026.577          50.272\n",
      "              1               2              10             992.480          62.946\n",
      "              1               3               1            1012.453          63.627\n",
      "              1               3               2            1061.308          61.007\n",
      "              1               3               3            1063.202          59.783\n",
      "              1               3               4            1054.170          86.381\n",
      "              1               3               5            1060.877          56.144\n",
      "              1               3               6            1065.409          58.656\n",
      "              1               3               7            1073.570          68.015\n",
      "              1               3               8            1057.883          67.702\n",
      "              1               3               9            1059.452          62.154\n",
      "              1               3              10            1053.939          90.755\n",
      "              1               4               1            1063.746          62.374\n",
      "              1               4               2            1078.966          70.816\n",
      "              1               4               3            1077.140          69.635\n",
      "              1               4               4            1048.889          74.271\n",
      "              1               4               5            1082.136          87.765\n",
      "              1               4               6            1070.052          67.186\n",
      "              1               4               7            1067.430          61.400\n",
      "              1               4               8            1064.307          62.965\n",
      "              1               4               9            1086.692          79.779\n",
      "              1               4              10            1037.851          73.206\n",
      "              1               5               1            1054.775         124.588\n",
      "              1               5               2            1085.475          76.004\n",
      "              1               5               3            1099.668          86.389\n",
      "              1               5               4            1081.594         115.836\n",
      "              1               5               5            1105.526          90.057\n",
      "              1               5               6            1083.357          76.010\n",
      "              1               5               7            1104.582         121.896\n",
      "              1               5               8            1079.706          75.883\n",
      "              1               5               9            1117.349          99.330\n",
      "              1               5              10            1060.620         111.174\n",
      "              1               6               1            1095.243          95.770\n",
      "              1               6               2            1105.930         137.812\n",
      "              1               6               3            1117.959          99.582\n",
      "              1               6               4            1107.316          91.600\n",
      "              1               6               5            1079.748          98.712\n",
      "              1               6               6            1127.420         104.043\n",
      "              1               6               7            1124.432         114.728\n",
      "              1               6               8            1114.890          76.650\n",
      "              1               6               9            1114.990          80.629\n",
      "              1               6              10            1117.171         132.683\n",
      "              2               1               1             969.126          43.525\n",
      "              2               2               1            1034.812          42.389\n",
      "              2               2               2            1032.615          44.041\n",
      "              2               2               3            1011.108          63.888\n",
      "              2               2               4            1031.401          42.029\n",
      "              2               2               5            1032.194          43.931\n",
      "              2               2               6            1033.308          44.548\n",
      "              2               2               7            1035.333          39.909\n",
      "              2               2               8            1028.614          44.775\n",
      "              2               2               9            1027.317          39.174\n",
      "              2               2              10            1035.187          41.992\n",
      "              2               3               1            1049.343          79.076\n",
      "              2               3               2            1050.704          76.155\n",
      "              2               3               3            1055.361          59.776\n",
      "              2               3               4            1059.898          60.845\n",
      "              2               3               5            1057.607          49.565\n",
      "              2               3               6            1036.411          47.615\n",
      "              2               3               7            1058.245          55.513\n",
      "              2               3               8            1036.860          88.351\n",
      "              2               3               9            1040.985          53.158\n",
      "              2               3              10            1061.546          59.310\n",
      "              2               4               1            1065.641          67.239\n",
      "              2               4               2            1063.693          90.534\n",
      "              2               4               3            1059.727          60.729\n",
      "              2               4               4            1048.604          77.932\n",
      "              2               4               5            1065.778          71.852\n",
      "              2               4               6            1093.565          87.964\n",
      "              2               4               7            1059.409          82.870\n",
      "              2               4               8            1083.759          77.426\n",
      "              2               4               9            1038.452          83.738\n",
      "              2               4              10            1057.966          89.353\n",
      "              2               5               1            1108.637          86.743\n",
      "              2               5               2            1095.645         101.109\n",
      "              2               5               3            1108.178          84.996\n",
      "              2               5               4            1100.959          84.018\n",
      "              2               5               5            1094.952          90.442\n",
      "              2               5               6            1057.751          96.673\n",
      "              2               5               7            1095.683         109.450\n",
      "              2               5               8            1077.925          95.617\n",
      "              2               5               9            1103.097         119.431\n",
      "              2               5              10            1093.297          74.338\n",
      "              2               6               1            1098.196          92.892\n",
      "              2               6               2            1127.835          93.845\n"
     ]
    },
    {
     "name": "stdout",
     "output_type": "stream",
     "text": [
      "              2               6               3            1110.615         107.557\n",
      "              2               6               4            1111.102          91.693\n",
      "              2               6               5            1111.058         102.333\n",
      "              2               6               6            1106.882          94.794\n",
      "              2               6               7            1106.983          93.033\n",
      "              2               6               8            1141.214         105.461\n",
      "              2               6               9            1076.923         126.632\n",
      "              2               6              10            1116.151         105.689\n",
      "              3               1               1             968.800          42.226\n",
      "              3               2               1             998.216          58.037\n",
      "              3               2               2            1002.695          50.196\n",
      "              3               2               3            1004.420          62.444\n",
      "              3               2               4            1023.933          47.849\n",
      "              3               2               5            1027.598          44.777\n",
      "              3               2               6            1034.768          41.238\n",
      "              3               2               7             979.178          54.105\n",
      "              3               2               8             971.956          53.583\n",
      "              3               2               9            1027.198          52.764\n",
      "              3               2              10            1028.163          45.794\n",
      "              3               3               1            1051.179          59.688\n",
      "              3               3               2            1062.197          64.103\n",
      "              3               3               3            1032.099          53.773\n",
      "              3               3               4            1063.908          64.125\n",
      "              3               3               5            1060.867          63.759\n",
      "              3               3               6            1059.331          72.579\n",
      "              3               3               7            1062.027          67.631\n",
      "              3               3               8            1058.478          49.638\n",
      "              3               3               9            1038.412          75.637\n",
      "              3               3              10            1069.809          60.117\n",
      "              3               4               1            1070.811          74.156\n",
      "              3               4               2            1063.218          72.951\n",
      "              3               4               3            1048.959          94.577\n",
      "              3               4               4            1091.703          80.202\n",
      "              3               4               5            1097.103          78.256\n",
      "              3               4               6            1097.302          71.185\n",
      "              3               4               7            1090.086          80.308\n",
      "              3               4               8            1062.849          79.606\n",
      "              3               4               9            1077.054         114.885\n",
      "              3               4              10            1096.344          84.953\n",
      "              3               5               1            1067.953          77.690\n",
      "              3               5               2            1100.520          73.532\n",
      "              3               5               3            1093.974          79.945\n",
      "              3               5               4            1093.167          63.232\n",
      "              3               5               5            1071.878          75.167\n",
      "              3               5               6            1083.565          88.550\n",
      "              3               5               7            1118.738          84.674\n",
      "              3               5               8            1122.621          74.330\n",
      "              3               5               9            1107.726          80.213\n",
      "              3               5              10            1089.195          82.993\n",
      "              3               6               1            1145.814          90.001\n",
      "              3               6               2            1094.301         102.519\n",
      "              3               6               3            1127.161         113.153\n",
      "              3               6               4            1137.668         102.696\n",
      "              3               6               5            1103.207          93.654\n",
      "              3               6               6            1113.127         100.344\n",
      "              3               6               7            1128.676         101.447\n",
      "              3               6               8            1091.140         115.904\n",
      "              3               6               9            1118.221         120.953\n",
      "              3               6              10            1098.476         107.917\n",
      "              4               1               1             969.087          41.449\n",
      "              4               2               1            1030.806          41.947\n",
      "              4               2               2            1027.371          41.603\n",
      "              4               2               3            1028.804          38.912\n",
      "              4               2               4            1035.228          41.250\n",
      "              4               2               5            1023.591          52.312\n",
      "              4               2               6            1034.172          43.734\n",
      "              4               2               7            1034.829          40.038\n",
      "              4               2               8            1017.075          61.774\n",
      "              4               2               9            1018.010          61.745\n",
      "              4               2              10            1017.534          64.511\n",
      "              4               3               1            1050.728          79.811\n",
      "              4               3               2            1063.044          47.515\n",
      "              4               3               3            1051.127          58.597\n",
      "              4               3               4            1068.536          58.200\n",
      "              4               3               5            1071.175          62.549\n",
      "              4               3               6            1044.356          74.273\n",
      "              4               3               7            1017.456          87.979\n",
      "              4               3               8            1050.941          61.961\n",
      "              4               3               9            1058.560          73.138\n",
      "              4               3              10            1068.465          63.179\n",
      "              4               4               1            1084.744          77.939\n",
      "              4               4               2            1063.297         109.878\n",
      "              4               4               3            1067.165          71.028\n",
      "              4               4               4            1086.431          80.884\n",
      "              4               4               5            1077.701          80.036\n",
      "              4               4               6            1087.078          74.625\n",
      "              4               4               7            1091.634          76.634\n",
      "              4               4               8            1101.766          94.084\n",
      "              4               4               9            1085.921          64.178\n",
      "              4               4              10            1083.167          78.276\n",
      "              4               5               1            1094.910          71.604\n",
      "              4               5               2            1081.764          76.033\n",
      "              4               5               3            1067.477          72.551\n",
      "              4               5               4            1093.789          98.467\n",
      "              4               5               5            1084.302          87.233\n",
      "              4               5               6            1110.781          94.615\n",
      "              4               5               7            1095.021          96.632\n",
      "              4               5               8            1101.284         106.995\n"
     ]
    },
    {
     "name": "stdout",
     "output_type": "stream",
     "text": [
      "              4               5               9            1095.448          96.175\n",
      "              4               5              10            1126.493          85.417\n",
      "              4               6               1            1114.786          99.254\n",
      "              4               6               2            1107.088         117.369\n",
      "              4               6               3            1109.348         111.921\n",
      "              4               6               4            1113.548          83.416\n",
      "              4               6               5            1134.754         102.364\n",
      "              4               6               6            1084.229         116.664\n",
      "              4               6               7            1098.965         101.480\n",
      "              4               6               8            1099.796         114.870\n",
      "              4               6               9            1127.033         107.192\n",
      "              4               6              10            1128.100          85.311\n"
     ]
    }
   ],
   "source": [
    "train, cv = scripts.cross_validate_cluster_scan\\\n",
    "(trajData, 20791, frame_weights = weights[::50], covar_type=\"kronecker\", cluster_array = cluster_array, n_training_sets=4, n_attempts = 10, dtype=torch.float64, device=torch.device(\"cuda:0\"))"
   ]
  },
  {
   "cell_type": "raw",
   "id": "3120eb27",
   "metadata": {},
   "source": [
    "# write to data files\n",
    "np.savetxt(\"train_fbias.dat\", np.column_stack((cluster_array, train)))\n",
    "np.savetxt(\"cv_fbias.dat\", np.column_stack((cluster_array, cv)))"
   ]
  },
  {
   "cell_type": "code",
   "execution_count": 9,
   "id": "c14678b2",
   "metadata": {},
   "outputs": [],
   "source": [
    "train = np.loadtxt(\"train_fbias.dat\")[:,1:]\n",
    "cv = np.loadtxt(\"cv_fbias.dat\")[:,1:]"
   ]
  },
  {
   "cell_type": "code",
   "execution_count": 10,
   "id": "934cff7e",
   "metadata": {},
   "outputs": [
    {
     "data": {
      "image/png": "[encoded data removed]",
      "text/plain": [
       "<Figure size 350x280 with 1 Axes>"
      ]
     },
     "metadata": {},
     "output_type": "display_data"
    }
   ],
   "source": [
    "# create figure\n",
    "plt.figure(figsize=(3.5,2.8), dpi= 100, facecolor='w', edgecolor='k')\n",
    "\n",
    "# train\n",
    "train_mean = np.mean(train, axis=1)\n",
    "train_std = np.std(train, axis=1)\n",
    "\n",
    "plt.errorbar(cluster_array,train_mean, train_std, fmt='-o', lw=3, capsize=3, label=\"Training\")\n",
    "\n",
    "# cv\n",
    "cv_mean = np.mean(cv, axis=1)\n",
    "cv_std = np.std(cv, axis=1)\n",
    "\n",
    "plt.errorbar(cluster_array, cv_mean, cv_std, fmt='--x', lw=3, capsize=3, label=\"Cross Validation\")\n",
    "\n",
    "plt.grid(which='major', axis='both', color='#808080', linestyle='--')\n",
    "\n",
    "plt.ylabel(\"Log Likelihood per Frame\")\n",
    "plt.title(\"# train frames = 20791\")\n",
    "plt.xlabel(\"Number of Clusters\")\n",
    "plt.tick_params(axis='both')\n",
    "plt.legend(fontsize=\"small\")\n",
    "plt.tight_layout()"
   ]
  },
  {
   "cell_type": "code",
   "execution_count": null,
   "id": "aeec1e4b",
   "metadata": {},
   "outputs": [],
   "source": []
  },
  {
   "cell_type": "code",
   "execution_count": null,
   "id": "50d0fc53",
   "metadata": {},
   "outputs": [],
   "source": []
  },
  {
   "cell_type": "code",
   "execution_count": null,
   "id": "c1f5c94e",
   "metadata": {},
   "outputs": [],
   "source": []
  },
  {
   "cell_type": "code",
   "execution_count": null,
   "id": "b9bf8546",
   "metadata": {},
   "outputs": [],
   "source": []
  },
  {
   "cell_type": "code",
   "execution_count": null,
   "id": "47b408ed",
   "metadata": {},
   "outputs": [],
   "source": []
  }
 ],
 "metadata": {
  "kernelspec": {
   "display_name": "Python 3 (ipykernel)",
   "language": "python",
   "name": "python3"
  },
  "language_info": {
   "codemirror_mode": {
    "name": "ipython",
    "version": 3
   },
   "file_extension": ".py",
   "mimetype": "text/x-python",
   "name": "python",
   "nbconvert_exporter": "python",
   "pygments_lexer": "ipython3",
   "version": "3.10.12"
  }
 },
 "nbformat": 4,
 "nbformat_minor": 5
}
