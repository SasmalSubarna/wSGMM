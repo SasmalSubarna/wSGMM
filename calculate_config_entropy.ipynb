{
 "cells": [
  {
   "cell_type": "markdown",
   "id": "f9114e15",
   "metadata": {},
   "source": [
    "# $ \\textit{Calculating Configurational entropies from GMM objects}$"
   ]
  },
  {
   "cell_type": "markdown",
   "id": "a7edd888",
   "metadata": {},
   "source": [
    "### $\\textit{Import Libraries}$"
   ]
  },
  {
   "cell_type": "code",
   "execution_count": 58,
   "id": "44289e0b",
   "metadata": {},
   "outputs": [],
   "source": [
    "import sys\n",
    "import os\n",
    "import numpy as np\n",
    "import matplotlib.pyplot as plt\n",
    "%matplotlib inline\n",
    "import pyemma\n",
    "from shapeGMM import gmm_shapes\n",
    "from shapeGMMTorch import torch_sgmm\n",
    "from shapeGMMTorch import scripts\n",
    "import MDAnalysis as md\n",
    "import torch\n",
    "import pickle"
   ]
  },
  {
   "cell_type": "code",
   "execution_count": 59,
   "id": "ecf0b00b",
   "metadata": {},
   "outputs": [],
   "source": [
    "from MDAnalysis.lib.distances import calc_dihedrals\n",
    "def calc_phi_psi(trajData):\n",
    "    phis = calc_dihedrals(trajData[:,0,:], trajData[:,1,:], trajData[:,2,:], trajData[:,3,:])*180/3.14\n",
    "    psis = calc_dihedrals(trajData[:,1,:], trajData[:,2,:], trajData[:,3,:], trajData[:,4,:])*180/3.14\n",
    "    return phis,psis"
   ]
  },
  {
   "cell_type": "markdown",
   "id": "f863a4d6",
   "metadata": {},
   "source": [
    "### $\\textit{Metadynamics simulation (BF=10)}$"
   ]
  },
  {
   "cell_type": "markdown",
   "id": "c8d3f553",
   "metadata": {},
   "source": [
    "### $\\textit{Path to files}$"
   ]
  },
  {
   "cell_type": "code",
   "execution_count": 60,
   "id": "2b891de5",
   "metadata": {},
   "outputs": [],
   "source": [
    "data_path = \"/scratch/projects/hockygroup/ss12902/metad_sims_ala2_using_same_tpr_TREX/bf10/\"\n",
    "gro_file = \"run_ala2_metad_sigma0.3_height1.2_pace500_bf10.gro\"\n",
    "traj_file = \"run_ala2_metad_sigma0.3_height1.2_pace500_bf10_wrapped.trr\"\n",
    "colvar_file = \"run_ala2_metad_sigma0.3_height1.2_pace500_bf10.colvars.dat\""
   ]
  },
  {
   "cell_type": "markdown",
   "id": "e38df593",
   "metadata": {},
   "source": [
    "### $\\textit{Load Metad fbias from colvar}$"
   ]
  },
  {
   "cell_type": "code",
   "execution_count": 43,
   "id": "a8d64d5f",
   "metadata": {},
   "outputs": [
    {
     "data": {
      "text/plain": [
       "[<matplotlib.lines.Line2D at 0x146e11121210>]"
      ]
     },
     "execution_count": 43,
     "metadata": {},
     "output_type": "execute_result"
    },
    {
     "data": {
      "image/png": "[encoded data removed]",
      "text/plain": [
       "<Figure size 200x200 with 1 Axes>"
      ]
     },
     "metadata": {},
     "output_type": "display_data"
    }
   ],
   "source": [
    "metad_fbias = np.loadtxt(data_path+\"colvar_reweight\", usecols=3)\n",
    "metad_fbias -= metad_fbias.min()\n",
    "\n",
    "plt.figure(figsize=(2,2))\n",
    "plt.plot(metad_fbias)"
   ]
  },
  {
   "cell_type": "code",
   "execution_count": 44,
   "id": "27082f42",
   "metadata": {},
   "outputs": [
    {
     "data": {
      "text/plain": [
       "[<matplotlib.lines.Line2D at 0x146e10f6afe0>]"
      ]
     },
     "execution_count": 44,
     "metadata": {},
     "output_type": "execute_result"
    },
    {
     "data": {
      "image/png": "[encoded data removed]",
      "text/plain": [
       "<Figure size 200x200 with 1 Axes>"
      ]
     },
     "metadata": {},
     "output_type": "display_data"
    }
   ],
   "source": [
    "kt = 0.596161  # @ 300K in kcal/mol unit\n",
    "fbias_weights  = np.exp(metad_fbias/kt)\n",
    "fbias_weights /= np.sum(fbias_weights)\n",
    "\n",
    "plt.figure(figsize=(2,2))\n",
    "plt.plot(fbias_weights)"
   ]
  },
  {
   "cell_type": "markdown",
   "id": "accb22a7",
   "metadata": {},
   "source": [
    "### $\\textit{Load the GMM objects for different choice of weights}$"
   ]
  },
  {
   "cell_type": "markdown",
   "id": "7dae7751",
   "metadata": {},
   "source": [
    "Loading uniform objects"
   ]
  },
  {
   "cell_type": "code",
   "execution_count": 45,
   "id": "5cb2fd98",
   "metadata": {},
   "outputs": [
    {
     "name": "stdout",
     "output_type": "stream",
     "text": [
      "(5,)\n"
     ]
    }
   ],
   "source": [
    "objs_uniform = []\n",
    "#for i in range(3):\n",
    "for i in range(5):\n",
    "    with open(data_path+\"run_with_v1.6.1/wsgmm_%dstate_wout_weights_nattempts_40.pickle\"%(i+2), \"rb\") as fo:\n",
    "        obj_ = pickle.load(fo)\n",
    "    objs_uniform.append(obj_)\n",
    "    \n",
    "objs_uniform = np.array(objs_uniform)\n",
    "print(objs_uniform.shape)"
   ]
  },
  {
   "cell_type": "markdown",
   "id": "eb6fc13f",
   "metadata": {},
   "source": [
    "Loading objects from other choice of weights"
   ]
  },
  {
   "cell_type": "code",
   "execution_count": 46,
   "id": "041e5e1e",
   "metadata": {},
   "outputs": [
    {
     "name": "stdout",
     "output_type": "stream",
     "text": [
      "(3, 5)\n"
     ]
    }
   ],
   "source": [
    "wsgmm_list = []\n",
    "\n",
    "# loop over different weights (w1:= bias, w2:= rbias and w3:= fbias)\n",
    "for i in range(3):\n",
    "    objs = []\n",
    "    \n",
    "    # loop over different clusters (2,3,4)\n",
    "    #for j in range(3):\n",
    "    for j in range(5):\n",
    "        \n",
    "        # load pickled object\n",
    "        with open(data_path+\"w%d/run_with_v1.6.1/kabsch_thresh_1e-1/wsgmm_%dstate_nattempts_40.pickle\"%(i+1, j+2), \"rb\") as fo:\n",
    "            obj = pickle.load(fo)\n",
    "        \n",
    "        objs.append(obj)\n",
    "    \n",
    "    wsgmm_list.append(objs)\n",
    "        \n",
    "wsgmm_list = np.array(wsgmm_list)\n",
    "print(wsgmm_list.shape)"
   ]
  },
  {
   "cell_type": "code",
   "execution_count": 47,
   "id": "e53f7f69",
   "metadata": {},
   "outputs": [
    {
     "name": "stdout",
     "output_type": "stream",
     "text": [
      "(4, 5)\n"
     ]
    }
   ],
   "source": [
    "#all_wsgmm = np.concatenate([objs_uniform.reshape(1,3), wsgmm_list], axis=0)\n",
    "all_wsgmm = np.concatenate([objs_uniform.reshape(1,5), wsgmm_list], axis=0)\n",
    "\n",
    "print(all_wsgmm.shape)"
   ]
  },
  {
   "cell_type": "markdown",
   "id": "b3f36f10",
   "metadata": {},
   "source": [
    "### $\\textit{Lets create the modified uniform objects}$\n",
    "\n",
    "Hard code the cluster populations from fbias weights"
   ]
  },
  {
   "cell_type": "code",
   "execution_count": 48,
   "id": "ee42af4e",
   "metadata": {},
   "outputs": [
    {
     "name": "stdout",
     "output_type": "stream",
     "text": [
      "(1, 5)\n"
     ]
    }
   ],
   "source": [
    "## making a copy of uniform objects \n",
    "#uniform_modf_objs = all_wsgmm[0,:].copy().reshape(1,3)\n",
    "uniform_modf_objs = all_wsgmm[0,:].copy().reshape(1,5)\n",
    "\n",
    "print(uniform_modf_objs.shape)"
   ]
  },
  {
   "cell_type": "code",
   "execution_count": 49,
   "id": "b4547703",
   "metadata": {},
   "outputs": [
    {
     "name": "stdout",
     "output_type": "stream",
     "text": [
      "Original Weights for each of the uniform objects:\n",
      "\n",
      "2 cluster:  [0.9187048 0.0812952]\n",
      "3 cluster:  [0.35271946 0.3324601  0.31482044]\n",
      "4 cluster:  [0.33975473 0.27061529 0.23671324 0.15291675]\n",
      "5 cluster:  [0.29853009 0.27504356 0.21523758 0.13976213 0.07142664]\n",
      "6 cluster:  [3.14788718e-01 2.59534446e-01 2.39811606e-01 1.85795758e-01\n",
      " 5.94719141e-05 9.99990000e-06]\n"
     ]
    }
   ],
   "source": [
    "print(\"Original Weights for each of the uniform objects:\\n\")\n",
    "#for j in range(3):\n",
    "for j in range(5):\n",
    "    print(\"%d cluster: \"%(j+2), all_wsgmm[0,j].weights)"
   ]
  },
  {
   "cell_type": "code",
   "execution_count": 50,
   "id": "224d8478",
   "metadata": {},
   "outputs": [
    {
     "name": "stdout",
     "output_type": "stream",
     "text": [
      "Original Weights for each of the fbias weight objects:\n",
      "\n",
      "2 cluster:  [0.55865813 0.44134187]\n",
      "3 cluster:  [0.5131445 0.4683594 0.0184961]\n",
      "4 cluster:  [0.4322426  0.3621806  0.18708089 0.01849591]\n",
      "5 cluster:  [0.28425596 0.27785684 0.22222823 0.19716292 0.01849604]\n",
      "6 cluster:  [0.41034481 0.30439397 0.16123026 0.10553483 0.01219767 0.00629845]\n"
     ]
    }
   ],
   "source": [
    "print(\"Original Weights for each of the fbias weight objects:\\n\")\n",
    "#for j in range(3):\n",
    "for j in range(5):\n",
    "    print(\"%d cluster: \"%(j+2), all_wsgmm[3,j].weights)"
   ]
  },
  {
   "cell_type": "code",
   "execution_count": 51,
   "id": "23a56438",
   "metadata": {},
   "outputs": [
    {
     "name": "stdout",
     "output_type": "stream",
     "text": [
      "Modified weights for uniform objects:\n",
      "\n",
      "2 cluster:  [0.99434779 0.00565221]\n",
      "3 cluster:  [0.23604636 0.54791274 0.2160409 ]\n",
      "4 cluster:  [0.57484136 0.01834223 0.34939254 0.05742387]\n",
      "5 cluster:  [0.45953646 0.20583064 0.25952673 0.06031051 0.01479567]\n",
      "6 cluster:  [5.48468245e-01 3.43984125e-01 1.84959719e-02 8.90516554e-02\n",
      " 4.37242368e-14 2.78614494e-09]\n"
     ]
    }
   ],
   "source": [
    "print(\"Modified weights for uniform objects:\\n\")\n",
    "# loop over sizes 2,3 and 4 (uniform GMM objects)\n",
    "#for i in range(3):\n",
    "for i in range(5):\n",
    "    obj_i = all_wsgmm[0,i]\n",
    "    wgts = np.empty(obj_i.n_clusters)\n",
    "    \n",
    "    # loop over num clusters in each GMM object\n",
    "    for j in range(obj_i.n_clusters):\n",
    "        wgts[j] = np.sum(fbias_weights[[x[0] for x in np.argwhere(obj_i.cluster_ids == j)]])\n",
    "    \n",
    "    # assign the newly calculated weights !\n",
    "    uniform_modf_objs[0,i].weights = wgts    \n",
    "    print(\"%d cluster: \"%(i+2), wgts)"
   ]
  },
  {
   "cell_type": "markdown",
   "id": "3e794388",
   "metadata": {},
   "source": [
    "### $\\textit{Combine all the GMMs together now}$"
   ]
  },
  {
   "cell_type": "code",
   "execution_count": 52,
   "id": "c8f4a1e8",
   "metadata": {},
   "outputs": [
    {
     "name": "stdout",
     "output_type": "stream",
     "text": [
      "(5, 5)\n"
     ]
    }
   ],
   "source": [
    "# uniform -> bias -> rbias -> fbias -> uniform_modf (This is the order along 0 axis)\n",
    "all_wsgmm_combined = np.concatenate([all_wsgmm, uniform_modf_objs], axis=0)  \n",
    "print(all_wsgmm_combined.shape)"
   ]
  },
  {
   "cell_type": "markdown",
   "id": "5ce9c042",
   "metadata": {},
   "source": [
    "### $\\textit{Function for performing 2D numerical integration}$"
   ]
  },
  {
   "cell_type": "code",
   "execution_count": 53,
   "id": "e107f0e8",
   "metadata": {},
   "outputs": [],
   "source": [
    "def numerical_integration_2d_simp(fxy,dx,dy):\n",
    "    #dx and dy could be backwards, but probably identical here\n",
    "    int_x = np.array([ np.trapz(fxy_i,dx=dx) for fxy_i in fxy ])\n",
    "    return np.trapz(int_x,dx=dy)"
   ]
  },
  {
   "cell_type": "markdown",
   "id": "0b7571ec",
   "metadata": {},
   "source": [
    "### $\\textit{load the Metad reference FE for BF=10 simulation}$"
   ]
  },
  {
   "cell_type": "code",
   "execution_count": 54,
   "id": "9b964740",
   "metadata": {},
   "outputs": [],
   "source": [
    "metad_fe_sumhills = np.loadtxt(os.path.join(data_path,\"2d_fe_phi_psi_sum_hill_bf10_nbins_100.txt\"))[:,2]\n",
    "metad_fe_sumhills = metad_fe_sumhills.reshape((100,100))\n",
    "\n",
    "#  calculate the nomrlaized probability density \n",
    "dx = dy = 2*np.pi/len(metad_fe_sumhills)\n",
    "prob_metad = np.exp(-metad_fe_sumhills/kt)\n",
    "prob_metad = prob_metad/numerical_integration_2d_simp(prob_metad,dx,dy)  # normalized"
   ]
  },
  {
   "cell_type": "code",
   "execution_count": 57,
   "id": "9682793d",
   "metadata": {},
   "outputs": [
    {
     "data": {
      "image/png": "[encoded data removed]",
      "text/plain": [
       "<Figure size 400x300 with 2 Axes>"
      ]
     },
     "metadata": {},
     "output_type": "display_data"
    }
   ],
   "source": [
    "grids_ = np.linspace(-180, 180, 100, endpoint=True, dtype=float)\n",
    "plt.figure(figsize=(4,3))\n",
    "plt.contourf(grids_, grids_, metad_fe_sumhills, cmap=plt.get_cmap(\"jet\"), levels=100)\n",
    "cbar = plt.colorbar()\n",
    "cbar.set_label(\"FE (kcal/mol)\")"
   ]
  },
  {
   "cell_type": "markdown",
   "id": "a540362d",
   "metadata": {},
   "source": [
    "## $\\textit{S$_{config}$ for Ground Truth}$"
   ]
  },
  {
   "cell_type": "raw",
   "id": "1f24e1b2",
   "metadata": {},
   "source": [
    "S_ref = numerical_integration_2d_simp(prob_metad*np.log(prob_metad), dx, dy)\n",
    "print(\"Configurational Entropy for GT= \", S_ref)"
   ]
  },
  {
   "cell_type": "code",
   "execution_count": 17,
   "id": "c05a8578",
   "metadata": {},
   "outputs": [
    {
     "name": "stdout",
     "output_type": "stream",
     "text": [
      "Conigurational Entropy for GT=  -1.0879662775166619\n"
     ]
    }
   ],
   "source": [
    "locs = np.nonzero(prob_metad.T.flatten())\n",
    "S_ref = dx*dy*np.sum(prob_metad.T.flatten()[locs]*(np.log(prob_metad.T.flatten()[locs])))\n",
    "print(\"Conigurational Entropy for GT= \", S_ref)"
   ]
  },
  {
   "cell_type": "markdown",
   "id": "dcf1dbd9",
   "metadata": {},
   "source": [
    "## $\\textit{calculate S$_{config}$ for all GMM objects by integrating all space}$ "
   ]
  },
  {
   "cell_type": "code",
   "execution_count": 18,
   "id": "d491d189",
   "metadata": {},
   "outputs": [],
   "source": [
    "from shapeGMMTorch import similarities as sm"
   ]
  },
  {
   "cell_type": "code",
   "execution_count": 19,
   "id": "636bbc2a",
   "metadata": {},
   "outputs": [
    {
     "name": "stdout",
     "output_type": "stream",
     "text": [
      "Configurational Entropies (all): \n",
      " [[43.12544939 55.02468127 55.96272221 55.33515733 55.90894127]\n",
      " [58.71385013 59.7263472  60.41080449 61.01982639 61.44010854]\n",
      " [58.61144214 60.01207617 60.64230191 61.06923379 60.94503501]\n",
      " [58.67150763 60.04222813 60.34279791 60.93067555 61.06024796]\n",
      " [43.12532024 55.02682317 55.95976985 55.33266165 55.90882048]]\n"
     ]
    }
   ],
   "source": [
    "num_samples = 1000000  # 1M samples\n",
    "S_config_all = np.zeros([all_wsgmm_combined.shape[0], all_wsgmm_combined.shape[1]])\n",
    "\n",
    "for i in range(all_wsgmm_combined.shape[0]):\n",
    "    for j in range(all_wsgmm_combined.shape[1]):\n",
    "        all_wsgmm_combined[i,j].device = \"cpu\"\n",
    "        S_config_all[i,j] = sm.configurational_entropy(all_wsgmm_combined[i,j], n_points=num_samples)[0]\n",
    "\n",
    "print(\"Configurational Entropies (all): \\n\", S_config_all)"
   ]
  },
  {
   "cell_type": "markdown",
   "id": "3b83e4a0",
   "metadata": {},
   "source": [
    "## $\\textit{calculate S$_{config}$ for all GMM objects by integrating 2D phi-psi space}$ "
   ]
  },
  {
   "cell_type": "code",
   "execution_count": 20,
   "id": "9406eede",
   "metadata": {},
   "outputs": [
    {
     "name": "stdout",
     "output_type": "stream",
     "text": [
      "Configuartional Entropies (2D): \n",
      " [[-3.51434295 -3.27133606 -2.56835631 -3.32795525 -2.61198669]\n",
      " [-0.74024087 -0.28176202 -0.2614884  -0.28619679 -0.33923085]\n",
      " [-0.77568305 -0.29112475 -0.26107979 -0.2998121  -0.25785576]\n",
      " [-0.74728867 -0.28067347 -0.266921   -0.3944218  -0.2834189 ]\n",
      " [-3.5157787  -3.27315366 -2.56988602 -3.32937728 -2.61190938]]\n"
     ]
    }
   ],
   "source": [
    "num_samples = 1000000  # 1M samples \n",
    "nbins = [100,100]\n",
    "range_ = [-180,180]\n",
    "\n",
    "S_config_2d = np.zeros([all_wsgmm_combined.shape[0], all_wsgmm_combined.shape[1]])\n",
    "\n",
    "for i in range(all_wsgmm_combined.shape[0]):\n",
    "    for j in range(all_wsgmm_combined.shape[1]):\n",
    "        all_wsgmm_combined[i,j].device = \"cpu\"\n",
    "        \n",
    "        # generate trajetory\n",
    "        traj = all_wsgmm_combined[i,j].generate(num_samples)\n",
    "        \n",
    "        # calculate dihedrals\n",
    "        phis, psis = calc_phi_psi(traj)\n",
    "            \n",
    "        # histogram\n",
    "        hist = np.histogram2d(phis, psis, bins=nbins, range=[range_, range_], density=True)[0]\n",
    "        hist = hist/numerical_integration_2d_simp(hist,dx,dy)  # normalized\n",
    "        \n",
    "        # get the S_config_2d\n",
    "        #S_config_2d[i,j] = numerical_integration_2d_simp(hist*np.log(hist), dx, dy)   # giving nan values mostly!\n",
    "        \n",
    "        locs = np.nonzero(hist.T.flatten())\n",
    "        S_config_2d[i,j]  = dx*dy*np.sum(hist.T.flatten()[locs]*(np.log(hist.T.flatten()[locs])))\n",
    "\n",
    "print(\"Configuartional Entropies (2D): \\n\", S_config_2d)"
   ]
  },
  {
   "cell_type": "code",
   "execution_count": 21,
   "id": "66ae8db0",
   "metadata": {},
   "outputs": [
    {
     "name": "stdout",
     "output_type": "stream",
     "text": [
      "dS_config_all: \n",
      " [[44.21341567 56.11264755 57.05068849 56.42312361 56.99690755]\n",
      " [59.80181641 60.81431348 61.49877077 62.10779267 62.52807482]\n",
      " [59.69940841 61.10004245 61.73026819 62.15720006 62.03300129]\n",
      " [59.75947391 61.13019441 61.43076419 62.01864182 62.14821424]\n",
      " [44.21328652 56.11478945 57.04773613 56.42062793 56.99678676]] \n",
      "\n",
      "dS_config_2d: \n",
      " [[-2.42637667 -2.18336978 -1.48039003 -2.23998897 -1.52402041]\n",
      " [ 0.34772541  0.80620426  0.82647788  0.80176949  0.74873542]\n",
      " [ 0.31228323  0.79684153  0.82688649  0.78815418  0.83011051]\n",
      " [ 0.34067761  0.80729281  0.82104528  0.69354448  0.80454738]\n",
      " [-2.42781243 -2.18518738 -1.48191974 -2.241411   -1.5239431 ]]\n"
     ]
    }
   ],
   "source": [
    "dS_config_all = S_config_all - S_ref\n",
    "dS_config_2d = S_config_2d - S_ref\n",
    "\n",
    "print(\"dS_config_all: \\n\", dS_config_all, '\\n')\n",
    "print(\"dS_config_2d: \\n\", dS_config_2d)"
   ]
  },
  {
   "cell_type": "code",
   "execution_count": 22,
   "id": "1fe00a76",
   "metadata": {},
   "outputs": [],
   "source": [
    "def print_tabular(dS):\n",
    "    dS = dS.T\n",
    "    y = dS.shape[0]\n",
    "    x = dS.shape[1]\n",
    "    \n",
    "    x_labels = [\"uniform\", \"bias\", \"rbias\", \"fbias\", \"uniform_modf\"]\n",
    "    #y_labels = [\"Sizes\", \"K=2\", \"K=3\", \"K=4\"]\n",
    "    y_labels = [\"Sizes\", \"K=2\", \"K=3\", \"K=4\", \"K=5\", \"K=6\"]\n",
    "    \n",
    "    for i in range(y+1):\n",
    "        if i == 0:\n",
    "            print(\"size|     \", \"     \".join(x_labels))\n",
    "            print(\"--\"*33)\n",
    "        else:\n",
    "            print(y_labels[i], \"|\", dS[i-1,:])"
   ]
  },
  {
   "cell_type": "code",
   "execution_count": 23,
   "id": "d875d241",
   "metadata": {
    "scrolled": true
   },
   "outputs": [
    {
     "name": "stdout",
     "output_type": "stream",
     "text": [
      "dS_config_2d :\n",
      "\n",
      "size|      uniform     bias     rbias     fbias     uniform_modf\n",
      "------------------------------------------------------------------\n",
      "K=2 | [-2.42637667  0.34772541  0.31228323  0.34067761 -2.42781243]\n",
      "K=3 | [-2.18336978  0.80620426  0.79684153  0.80729281 -2.18518738]\n",
      "K=4 | [-1.48039003  0.82647788  0.82688649  0.82104528 -1.48191974]\n",
      "K=5 | [-2.23998897  0.80176949  0.78815418  0.69354448 -2.241411  ]\n",
      "K=6 | [-1.52402041  0.74873542  0.83011051  0.80454738 -1.5239431 ]\n"
     ]
    }
   ],
   "source": [
    "print(\"dS_config_2d :\\n\")\n",
    "print_tabular(dS_config_2d)"
   ]
  },
  {
   "cell_type": "code",
   "execution_count": 24,
   "id": "40b5e7e5",
   "metadata": {},
   "outputs": [
    {
     "name": "stdout",
     "output_type": "stream",
     "text": [
      "dS_config_2d * -1: \n",
      "\n",
      "size|      uniform     bias     rbias     fbias     uniform_modf\n",
      "------------------------------------------------------------------\n",
      "K=2 | [ 2.42637667 -0.34772541 -0.31228323 -0.34067761  2.42781243]\n",
      "K=3 | [ 2.18336978 -0.80620426 -0.79684153 -0.80729281  2.18518738]\n",
      "K=4 | [ 1.48039003 -0.82647788 -0.82688649 -0.82104528  1.48191974]\n",
      "K=5 | [ 2.23998897 -0.80176949 -0.78815418 -0.69354448  2.241411  ]\n",
      "K=6 | [ 1.52402041 -0.74873542 -0.83011051 -0.80454738  1.5239431 ]\n"
     ]
    }
   ],
   "source": [
    "print(\"dS_config_2d * -1: \\n\")\n",
    "print_tabular(dS_config_2d*-1)"
   ]
  },
  {
   "cell_type": "code",
   "execution_count": 25,
   "id": "147afeaa",
   "metadata": {
    "scrolled": true
   },
   "outputs": [
    {
     "name": "stdout",
     "output_type": "stream",
     "text": [
      "dS_config_all :\n",
      "\n",
      "size|      uniform     bias     rbias     fbias     uniform_modf\n",
      "------------------------------------------------------------------\n",
      "K=2 | [44.21341567 59.80181641 59.69940841 59.75947391 44.21328652]\n",
      "K=3 | [56.11264755 60.81431348 61.10004245 61.13019441 56.11478945]\n",
      "K=4 | [57.05068849 61.49877077 61.73026819 61.43076419 57.04773613]\n",
      "K=5 | [56.42312361 62.10779267 62.15720006 62.01864182 56.42062793]\n",
      "K=6 | [56.99690755 62.52807482 62.03300129 62.14821424 56.99678676]\n"
     ]
    }
   ],
   "source": [
    "print(\"dS_config_all :\\n\")\n",
    "print_tabular(dS_config_all)"
   ]
  },
  {
   "cell_type": "code",
   "execution_count": 26,
   "id": "9ab59458",
   "metadata": {},
   "outputs": [
    {
     "name": "stdout",
     "output_type": "stream",
     "text": [
      "S_config_2d :\n",
      "\n",
      "size|      uniform     bias     rbias     fbias     uniform_modf\n",
      "------------------------------------------------------------------\n",
      "K=2 | [-3.51434295 -0.74024087 -0.77568305 -0.74728867 -3.5157787 ]\n",
      "K=3 | [-3.27133606 -0.28176202 -0.29112475 -0.28067347 -3.27315366]\n",
      "K=4 | [-2.56835631 -0.2614884  -0.26107979 -0.266921   -2.56988602]\n",
      "K=5 | [-3.32795525 -0.28619679 -0.2998121  -0.3944218  -3.32937728]\n",
      "K=6 | [-2.61198669 -0.33923085 -0.25785576 -0.2834189  -2.61190938]\n"
     ]
    }
   ],
   "source": [
    "print(\"S_config_2d :\\n\")\n",
    "print_tabular(S_config_2d)"
   ]
  },
  {
   "cell_type": "code",
   "execution_count": null,
   "id": "e9b63acc",
   "metadata": {},
   "outputs": [],
   "source": []
  },
  {
   "cell_type": "code",
   "execution_count": null,
   "id": "65f10259",
   "metadata": {},
   "outputs": [],
   "source": []
  },
  {
   "cell_type": "code",
   "execution_count": null,
   "id": "a8c51911",
   "metadata": {},
   "outputs": [],
   "source": []
  },
  {
   "cell_type": "code",
   "execution_count": null,
   "id": "644f20be",
   "metadata": {},
   "outputs": [],
   "source": []
  },
  {
   "cell_type": "code",
   "execution_count": null,
   "id": "d5e9fa1f",
   "metadata": {},
   "outputs": [],
   "source": []
  },
  {
   "cell_type": "code",
   "execution_count": null,
   "id": "5ca1b2b1",
   "metadata": {},
   "outputs": [],
   "source": []
  }
 ],
 "metadata": {
  "kernelspec": {
   "display_name": "Python 3 (ipykernel)",
   "language": "python",
   "name": "python3"
  },
  "language_info": {
   "codemirror_mode": {
    "name": "ipython",
    "version": 3
   },
   "file_extension": ".py",
   "mimetype": "text/x-python",
   "name": "python",
   "nbconvert_exporter": "python",
   "pygments_lexer": "ipython3",
   "version": "3.10.12"
  }
 },
 "nbformat": 4,
 "nbformat_minor": 5
}
