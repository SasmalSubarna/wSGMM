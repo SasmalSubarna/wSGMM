{
 "cells": [
  {
   "cell_type": "markdown",
   "id": "72c18ee6",
   "metadata": {},
   "source": [
    "## Load Libraries"
   ]
  },
  {
   "cell_type": "code",
   "execution_count": null,
   "id": "9be4e758",
   "metadata": {},
   "outputs": [],
   "source": [
    "import numpy as np\n",
    "import matplotlib.pyplot as plt\n",
    "%matplotlib inline\n",
    "import MDAnalysis as md\n",
    "from shapeGMMTorch import torch_sgmm\n",
    "from shapeGMMTorch import scripts\n",
    "import torch\n",
    "# ignore warnings\n",
    "import warnings\n",
    "warnings.filterwarnings('ignore')"
   ]
  },
  {
   "cell_type": "markdown",
   "id": "3a10534f",
   "metadata": {},
   "source": [
    "## Read Trajectory"
   ]
  },
  {
   "cell_type": "code",
   "execution_count": null,
   "id": "d652ae6a",
   "metadata": {},
   "outputs": [],
   "source": [
    "prmtopFileName = \"../helix_template.pdb\"\n",
    "trajFileName = \"../run_files/helix_folding_eps6.0.dcd\"\n",
    "coord = md.Universe(prmtopFileName,trajFileName)\n",
    "print(\"Number of atoms in trajectory:\", coord.atoms.n_atoms)\n",
    "print(\"Number of frames in trajectory:\", coord.trajectory.n_frames)\n",
    "# make atom selection\n",
    "atomSel = coord.select_atoms('all')\n",
    "print(\"Number of atoms in selection:\", atomSel.n_atoms)\n",
    "# create traj data of selection\n",
    "traj_data = np.empty((coord.trajectory.n_frames,atomSel.n_atoms,3),dtype=float)\n",
    "#loop traj\n",
    "for ts in coord.trajectory:\n",
    "    traj_data[ts.frame,:] = atomSel.positions"
   ]
  },
  {
   "cell_type": "markdown",
   "id": "c1d2e62d",
   "metadata": {},
   "source": [
    "## Scan epsilon"
   ]
  },
  {
   "cell_type": "code",
   "execution_count": null,
   "id": "312b3b00",
   "metadata": {},
   "outputs": [],
   "source": [
    "eps_range = np.array([1,2,3,4,5,7,8,9,10,11,12,13,14,15,16,17,18])\n",
    "cluster_array = np.arange(1,7).astype(int)\n",
    "dtype = torch.float64\n",
    "device = torch.device(\"cuda:0\")\n",
    "for eps in eps_range:\n",
    "    file_name = \"eps\" + str(eps) + \"_frame_weights.dat\"\n",
    "    weights = np.loadtxt(file_name)\n",
    "    eps_train, eps_cv = scripts.cross_validate_cluster_scan(traj_data, 90000, frame_weights = frame_weights, covar_type=\"kronecker\", cluster_array = cluster_array, n_training_sets=3, n_attempts = 10, dtype=dtype, device=device)\n",
    "    train_file_name = \"eps\" + str(eps) + \"frame_weights_ll_train_90k.dat\"\n",
    "    np.savetxt(train_file_name, eps_train)\n",
    "    cv_file_name = \"eps\" + str(eps) + \"frame_weights_ll_cv_10k.dat\"\n",
    "    np.savetxt(cv_file_name, eps_cv)"
   ]
  }
 ],
 "metadata": {
  "kernelspec": {
   "display_name": "Python 3 (ipykernel)",
   "language": "python",
   "name": "python3"
  },
  "language_info": {
   "codemirror_mode": {
    "name": "ipython",
    "version": 3
   },
   "file_extension": ".py",
   "mimetype": "text/x-python",
   "name": "python",
   "nbconvert_exporter": "python",
   "pygments_lexer": "ipython3",
   "version": "3.11.4"
  }
 },
 "nbformat": 4,
 "nbformat_minor": 5
}
