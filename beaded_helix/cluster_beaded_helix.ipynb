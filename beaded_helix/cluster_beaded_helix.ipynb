{
 "cells": [
  {
   "cell_type": "markdown",
   "metadata": {},
   "source": [
    "# Clustering the Beaded Helix Transtion from R- to L-Helix"
   ]
  },
  {
   "cell_type": "markdown",
   "metadata": {},
   "source": [
    "## Import Libraries"
   ]
  },
  {
   "cell_type": "code",
   "execution_count": 1,
   "metadata": {},
   "outputs": [
    {
     "name": "stderr",
     "output_type": "stream",
     "text": [
      "/Users/mmccull/opt/anaconda3/envs/nomkl/lib/python3.10/site-packages/tqdm/auto.py:21: TqdmWarning: IProgress not found. Please update jupyter and ipywidgets. See https://ipywidgets.readthedocs.io/en/stable/user_install.html\n",
      "  from .autonotebook import tqdm as notebook_tqdm\n"
     ]
    }
   ],
   "source": [
    "import sys\n",
    "import numpy as np\n",
    "import matplotlib.pyplot as plt\n",
    "%matplotlib inline\n",
    "from shapeGMMTorch import torch_sgmm\n",
    "from shapeGMMTorch import scripts\n",
    "import MDAnalysis as md\n",
    "import torch"
   ]
  },
  {
   "cell_type": "markdown",
   "metadata": {},
   "source": [
    "## Read trajectory"
   ]
  },
  {
   "cell_type": "code",
   "execution_count": 2,
   "metadata": {},
   "outputs": [
    {
     "name": "stdout",
     "output_type": "stream",
     "text": [
      "Number of atoms in trajectory: 12\n",
      "Number of frames in trajectory: 100001\n",
      "Number of atoms in selection: 12\n"
     ]
    }
   ],
   "source": [
    "prmtopFileName = \"helix_template.pdb\"\n",
    "trajFileName = \"run_files/helix_folding_eps6.0.dcd\"\n",
    "coord = md.Universe(prmtopFileName,trajFileName)\n",
    "print(\"Number of atoms in trajectory:\", coord.atoms.n_atoms)\n",
    "print(\"Number of frames in trajectory:\", coord.trajectory.n_frames)\n",
    "# make atom selection\n",
    "atomSel = coord.select_atoms('all')\n",
    "print(\"Number of atoms in selection:\", atomSel.n_atoms)\n",
    "# create traj data of selection\n",
    "trajData = np.empty((coord.trajectory.n_frames,atomSel.n_atoms,3),dtype=float)\n",
    "#loop traj\n",
    "for ts in coord.trajectory:\n",
    "    trajData[ts.frame,:] = atomSel.positions"
   ]
  },
  {
   "cell_type": "markdown",
   "metadata": {},
   "source": [
    "## Run WSGMM for nClusters=3"
   ]
  },
  {
   "cell_type": "code",
   "execution_count": 3,
   "metadata": {
    "scrolled": true
   },
   "outputs": [
    {
     "name": "stdout",
     "output_type": "stream",
     "text": [
      "Number of training frames: 100001\n",
      "Number of clusters: 3\n",
      "Number of attempts: 10\n",
      " Attempt  Log Like per Frame    CPU Time (s)\n",
      "--------------------------------------------------\n",
      "       1              43.060         327.871\n",
      "       2              43.074         229.519\n",
      "       3              43.083         216.354\n",
      "       4              43.043         229.795\n",
      "       5              43.072         201.603\n",
      "       6              43.076         180.525\n",
      "       7              43.061         318.152\n",
      "       8              43.076         301.973\n",
      "       9              43.067         307.895\n",
      "      10              43.058         265.387\n"
     ]
    }
   ],
   "source": [
    "wsgmm = scripts.sgmm_fit_with_attempts(trajData, 3, 10, np.ones(trajData.shape[0]),device=torch.device(\"cpu\"),dtype=torch.float64)"
   ]
  },
  {
   "cell_type": "code",
   "execution_count": 4,
   "metadata": {},
   "outputs": [
    {
     "name": "stdout",
     "output_type": "stream",
     "text": [
      "[0.43828295 0.43790593 0.12381112]\n"
     ]
    }
   ],
   "source": [
    "# check cluster populations\n",
    "print(wsgmm.weights)"
   ]
  },
  {
   "cell_type": "code",
   "execution_count": 5,
   "metadata": {},
   "outputs": [],
   "source": [
    "# save pickled object\n",
    "import pickle\n",
    "file_obj = open(\"sgmm_beaded_helix_100k_v02_3clusters.pickle\",\"wb\")\n",
    "pickle.dump(wsgmm,file_obj)\n",
    "file_obj.close()"
   ]
  },
  {
   "cell_type": "code",
   "execution_count": 3,
   "metadata": {},
   "outputs": [],
   "source": [
    "# load pickled object\n",
    "import pickle\n",
    "file_obj = open(\"sgmm_beaded_helix_100k_v02_3clusters.pickle\",\"rb\")\n",
    "wsgmm = pickle.load(file_obj)\n",
    "file_obj.close()"
   ]
  },
  {
   "cell_type": "markdown",
   "metadata": {},
   "source": [
    "## Create ENMs from Sample Covariance"
   ]
  },
  {
   "cell_type": "code",
   "execution_count": 4,
   "metadata": {},
   "outputs": [],
   "source": [
    "from shapeGMMTorch import torch_align\n",
    "def _pinv(sigma,n):\n",
    "    e, v = np.linalg.eigh(sigma)\n",
    "    e[:n] = 0.0\n",
    "    e[n:] = 1/e[n:]\n",
    "    return np.dot(v,np.dot(np.diag(e),v.T))"
   ]
  },
  {
   "cell_type": "code",
   "execution_count": 5,
   "metadata": {},
   "outputs": [],
   "source": [
    "dtype = torch.float64\n",
    "device = torch.device(\"cpu\")\n",
    "sample_covars = np.empty((wsgmm.n_clusters,wsgmm.n_atoms*3,wsgmm.n_atoms*3))\n",
    "sample_precisions = np.empty((wsgmm.n_clusters,wsgmm.n_atoms*3,wsgmm.n_atoms*3))\n",
    "for cluster_id in range(wsgmm.n_clusters):\n",
    "    indeces = np.argwhere(wsgmm.cluster_ids==cluster_id).flatten()\n",
    "    traj_tensor = torch.tensor(trajData[indeces],dtype=dtype,device=device)\n",
    "    torch_align.torch_remove_center_of_geometry(traj_tensor,dtype=dtype,device=device)\n",
    "    ref_tensor = torch.tensor(wsgmm.centers[cluster_id],dtype=dtype,device=device) \n",
    "    precision_tensor = torch.tensor(wsgmm.precisions[cluster_id],dtype=torch.float64,device=device)\n",
    "    traj_tensor = torch_align.torch_align_kronecker(traj_tensor,ref_tensor,precision_tensor,dtype=dtype,device=device)\n",
    "    disp = traj_tensor - ref_tensor\n",
    "    disp = disp.reshape(-1,wsgmm.n_atoms*3)\n",
    "    sample_covars[cluster_id] = (disp.T @ disp).cpu().numpy()/(disp.shape[0]-1)\n",
    "    sample_precisions[cluster_id] = _pinv(sample_covars[cluster_id],6)"
   ]
  },
  {
   "cell_type": "code",
   "execution_count": 10,
   "metadata": {},
   "outputs": [],
   "source": [
    "np.savetxt(\"cluster1_center.dat\",wsgmm.centers[0])\n",
    "np.savetxt(\"cluster1_sample_covar.dat\",sample_covars[0])\n",
    "np.savetxt(\"cluster1_sample_precision.dat\",sample_precisions[0])\n",
    "np.savetxt(\"cluster2_center.dat\",wsgmm.centers[1])\n",
    "np.savetxt(\"cluster2_sample_covar.dat\",sample_covars[1])\n",
    "np.savetxt(\"cluster2_sample_precision.dat\",sample_precisions[1])"
   ]
  },
  {
   "cell_type": "code",
   "execution_count": 15,
   "metadata": {},
   "outputs": [],
   "source": [
    "dtype=torch.float64\n",
    "device=torch.device(\"cpu\")\n",
    "from shapeGMMTorch import torch_align\n",
    "def compute_position_hessian_energy(pos_traj,wsgmm,sample_prec1,sample_prec2):\n",
    "    # metadata\n",
    "    n_frames = pos_traj.shape[0]\n",
    "    n_atoms = pos_traj.shape[1]\n",
    "    # declare array\n",
    "    energy = np.empty(n_frames)\n",
    "    # Pass arrays to torch\n",
    "    traj_tensor = torch.tensor(pos_traj,dtype=dtype,device=device)\n",
    "    ref1_tensor = torch.tensor(wsgmm.centers[0],dtype=dtype,device=device)\n",
    "    ref2_tensor = torch.tensor(wsgmm.centers[1],dtype=dtype,device=device)\n",
    "    prec1_tensor = torch.tensor(wsgmm.precisions[0],dtype=dtype,device=device)\n",
    "    prec2_tensor = torch.tensor(wsgmm.precisions[1],dtype=dtype,device=device)\n",
    "    # align trajectory to both references and compute displacement \n",
    "    align1 =  torch_align.torch_align_kronecker(traj_tensor,ref1_tensor, prec1_tensor,dtype=dtype,device=device)\n",
    "    disp1 = (align1 - ref1_tensor).cpu().numpy().reshape(n_frames,n_atoms*3)\n",
    "    align2 =  torch_align.torch_align_kronecker(traj_tensor,ref2_tensor, prec2_tensor,dtype=dtype,device=device)\n",
    "    disp2 = (align2 - ref2_tensor).cpu().numpy().reshape(n_frames,n_atoms*3)\n",
    "    # loop through trajectory and compute energy\n",
    "    for i in range(n_frames):\n",
    "        energy1 = 0.5*np.dot(disp1[i],np.dot(sample_prec1,disp1[i]))\n",
    "        energy2 = 0.5*np.dot(disp2[i],np.dot(sample_prec2,disp2[i]))\n",
    "        energy[i] = min(energy1,energy2)\n",
    "    return energy"
   ]
  },
  {
   "cell_type": "code",
   "execution_count": 16,
   "metadata": {},
   "outputs": [],
   "source": [
    "energies = compute_position_hessian_energy(trajData,wsgmm,sample_precisions[0],sample_precisions[1])"
   ]
  },
  {
   "cell_type": "code",
   "execution_count": 18,
   "metadata": {},
   "outputs": [],
   "source": [
    "position_enm_energies = np.loadtxt(\"enm_energies_v02.dat\")"
   ]
  },
  {
   "cell_type": "code",
   "execution_count": 19,
   "metadata": {},
   "outputs": [
    {
     "data": {
      "text/plain": [
       "[<matplotlib.lines.Line2D at 0x7fe3b2b181f0>]"
      ]
     },
     "execution_count": 19,
     "metadata": {},
     "output_type": "execute_result"
    },
    {
     "data": {
      "image/png": "[encoded data removed]",
      "text/plain": [
       "<Figure size 640x480 with 1 Axes>"
      ]
     },
     "metadata": {},
     "output_type": "display_data"
    }
   ],
   "source": [
    "plt.plot(energies,position_enm_energies,'o')"
   ]
  },
  {
   "cell_type": "code",
   "execution_count": 20,
   "metadata": {},
   "outputs": [],
   "source": [
    "weights = np.exp(-np.array(energies)/0.593)\n",
    "weights /= np.sum(weights)\n",
    "np.savetxt('hessian_weights.dat',weights)"
   ]
  },
  {
   "cell_type": "code",
   "execution_count": 23,
   "metadata": {},
   "outputs": [
    {
     "name": "stdout",
     "output_type": "stream",
     "text": [
      "1.282971358844796e-69 0.015106003636624593\n",
      "7.744086501379749e-60 0.021499714756853756\n"
     ]
    },
    {
     "data": {
      "image/png": "[encoded data removed]",
      "text/plain": [
       "<Figure size 640x480 with 1 Axes>"
      ]
     },
     "metadata": {},
     "output_type": "display_data"
    }
   ],
   "source": [
    "for cluster_id in range(wsgmm.n_clusters-1):\n",
    "    indeces = np.argwhere(wsgmm.cluster_ids==cluster_id).flatten()\n",
    "    print(np.amin(weights[indeces]),np.amax(weights[indeces]))\n",
    "    label = \"cluster \" + str(cluster_id)\n",
    "    plt.hist(energies[indeces],bins=75,alpha=0.5,density=True,label=label)\n",
    "#plt.xlim(0,300)\n",
    "plt.legend(fontsize=12);"
   ]
  },
  {
   "cell_type": "code",
   "execution_count": 24,
   "metadata": {},
   "outputs": [
    {
     "name": "stdout",
     "output_type": "stream",
     "text": [
      "1.282971358844796e-69 0.015106003636624593\n",
      "7.744086501379749e-60 0.021499714756853756\n"
     ]
    },
    {
     "data": {
      "image/png": "[encoded data removed]",
      "text/plain": [
       "<Figure size 640x480 with 1 Axes>"
      ]
     },
     "metadata": {},
     "output_type": "display_data"
    }
   ],
   "source": [
    "for cluster_id in range(wsgmm.n_clusters-1):\n",
    "    indeces = np.argwhere(wsgmm.cluster_ids==cluster_id).flatten()\n",
    "    print(np.amin(weights[indeces]),np.amax(weights[indeces]))\n",
    "    label = \"cluster \" + str(cluster_id)\n",
    "    plt.hist(weights[indeces],bins=75,alpha=0.5,density=True,label=label)\n",
    "#plt.xlim(0,300)\n",
    "plt.legend(fontsize=12);"
   ]
  },
  {
   "cell_type": "code",
   "execution_count": 8,
   "metadata": {
    "scrolled": false
   },
   "outputs": [
    {
     "name": "stdout",
     "output_type": "stream",
     "text": [
      "[60.86607521  8.92202855  1.40544371 13.08383487  4.96477167  0.72307701\n",
      "  0.          0.          0.          0.          0.        ]\n"
     ]
    }
   ],
   "source": [
    "ks = np.zeros((wsgmm.n_atoms-1))\n",
    "k_counts = np.zeros((wsgmm.n_atoms-1))\n",
    "for cluster_id in range(wsgmm.n_clusters-1):\n",
    "    for atom1 in range(wsgmm.n_atoms-1):\n",
    "        ki = 0\n",
    "        for atom2 in range(atom1+1,wsgmm.n_atoms):\n",
    "            prec_tensor = sample_precisions[cluster_id,atom1*3:atom1*3+3,atom2*3:atom2*3+3]\n",
    "            sep_vec = wsgmm.centers[cluster_id,atom2]-wsgmm.centers[cluster_id,atom1]\n",
    "            sep_vec /= np.linalg.norm(sep_vec)\n",
    "            x = np.dot(sep_vec,np.dot(prec_tensor,sep_vec))\n",
    "            ks[ki] += x\n",
    "            k_counts[ki] += 1\n",
    "            ki += 1\n",
    "ks /= k_counts\n",
    "ks = -ks\n",
    "ks[ks < 0.0] = 0.0\n",
    "print(0.5*ks)"
   ]
  },
  {
   "cell_type": "code",
   "execution_count": 7,
   "metadata": {},
   "outputs": [],
   "source": [
    "np.savetxt(\"all_pair_ks_100k_v02_from_covar_for_lammps.dat\",0.5*ks)"
   ]
  },
  {
   "cell_type": "code",
   "execution_count": 11,
   "metadata": {},
   "outputs": [],
   "source": [
    "from MDAnalysis.analysis.distances import distance_array\n",
    "dist12 = []\n",
    "dist13 = []\n",
    "dist14 = []\n",
    "dist15 = []\n",
    "dist16 = []\n",
    "dist17 = []\n",
    "dist18 = []\n",
    "dist19 = []\n",
    "dist110 = []\n",
    "dist111 = []\n",
    "dist112 = []\n",
    "for cluster_id in range(wsgmm.n_clusters):\n",
    "    dist12.append([])\n",
    "    dist13.append([])\n",
    "    dist14.append([])\n",
    "    dist15.append([])\n",
    "    dist16.append([])\n",
    "    dist17.append([])\n",
    "    dist18.append([])\n",
    "    dist19.append([])\n",
    "    dist110.append([])\n",
    "    dist111.append([])\n",
    "    dist112.append([])\n",
    "\n",
    "for frame in range(trajData.shape[0]):\n",
    "    dist_mat  = distance_array(trajData[frame],trajData[frame])\n",
    "    cluster_id = wsgmm.cluster_ids[frame]\n",
    "    for atom1 in range(wsgmm.n_atoms-1):\n",
    "        atom2 = atom1+1\n",
    "        dist12[cluster_id].append(dist_mat[atom1,atom2])\n",
    "    for atom1 in range(wsgmm.n_atoms-2):\n",
    "        atom2 = atom1+2\n",
    "        dist13[cluster_id].append(dist_mat[atom1,atom2])\n",
    "    for atom1 in range(wsgmm.n_atoms-3):\n",
    "        atom2 = atom1+3\n",
    "        dist14[cluster_id].append(dist_mat[atom1,atom2])\n",
    "    for atom1 in range(wsgmm.n_atoms-4):\n",
    "        atom2 = atom1+4\n",
    "        dist15[cluster_id].append(dist_mat[atom1,atom2])\n",
    "    for atom1 in range(wsgmm.n_atoms-5):\n",
    "        atom2 = atom1+5\n",
    "        dist16[cluster_id].append(dist_mat[atom1,atom2])\n",
    "    for atom1 in range(wsgmm.n_atoms-6):\n",
    "        atom2 = atom1+6\n",
    "        dist17[cluster_id].append(dist_mat[atom1,atom2])\n",
    "    for atom1 in range(wsgmm.n_atoms-7):\n",
    "        atom2 = atom1+7\n",
    "        dist18[cluster_id].append(dist_mat[atom1,atom2])\n",
    "    for atom1 in range(wsgmm.n_atoms-8):\n",
    "        atom2 = atom1+8\n",
    "        dist19[cluster_id].append(dist_mat[atom1,atom2])\n",
    "    for atom1 in range(wsgmm.n_atoms-9):\n",
    "        atom2 = atom1+9\n",
    "        dist110[cluster_id].append(dist_mat[atom1,atom2])\n",
    "    for atom1 in range(wsgmm.n_atoms-10):\n",
    "        atom2 = atom1+10\n",
    "        dist111[cluster_id].append(dist_mat[atom1,atom2])\n",
    "    for atom1 in range(wsgmm.n_atoms-11):\n",
    "        atom2 = atom1+11\n",
    "        dist112[cluster_id].append(dist_mat[atom1,atom2])"
   ]
  },
  {
   "cell_type": "code",
   "execution_count": 13,
   "metadata": {},
   "outputs": [],
   "source": [
    "dist12_01 = np.concatenate((dist12[0],dist12[1]))\n",
    "dist13_01 = np.concatenate((dist13[0],dist13[1]))\n",
    "dist14_01 = np.concatenate((dist14[0],dist14[1]))\n",
    "dist15_01 = np.concatenate((dist15[0],dist15[1]))\n",
    "dist16_01 = np.concatenate((dist16[0],dist16[1]))\n",
    "dist17_01 = np.concatenate((dist17[0],dist17[1]))\n",
    "dist18_01 = np.concatenate((dist18[0],dist18[1]))\n",
    "dist19_01 = np.concatenate((dist19[0],dist19[1]))\n",
    "dist110_01 = np.concatenate((dist110[0],dist110[1]))\n",
    "dist111_01 = np.concatenate((dist111[0],dist111[1]))\n",
    "dist112_01 = np.concatenate((dist112[0],dist112[1]))"
   ]
  },
  {
   "cell_type": "code",
   "execution_count": 14,
   "metadata": {},
   "outputs": [],
   "source": [
    "rmin = []\n",
    "rmin.append(np.mean(dist12_01))\n",
    "rmin.append(np.mean(dist13_01))\n",
    "rmin.append(np.mean(dist14_01))\n",
    "rmin.append(np.mean(dist15_01))\n",
    "rmin.append(np.mean(dist16_01))\n",
    "rmin.append(np.mean(dist17_01))\n",
    "rmin.append(np.mean(dist18_01))\n",
    "rmin.append(np.mean(dist19_01))\n",
    "rmin.append(np.mean(dist110_01))\n",
    "rmin.append(np.mean(dist111_01))\n",
    "rmin.append(np.mean(dist112_01))\n",
    "np.savetxt(\"all_pair_rmins_100k_v02.dat\",rmin)\n",
    "#k = []\n",
    "##k.append(1/np.std(dist12_01)**2)\n",
    "#k.append(1/np.std(dist13_01)**2)\n",
    "#k.append(1/np.std(dist14_01)**2)\n",
    "#k.append(1/np.std(dist15_01)**2)\n",
    "#k.append(1/np.std(dist16_01)**2)\n",
    "#k.append(1/np.std(dist17_01)**2)\n",
    "#k.append(1/np.std(dist18_01)**2)\n",
    "#k.append(1/np.std(dist19_01)**2)\n",
    "#k.append(1/np.std(dist110_01)**2)\n",
    "#k.append(1/np.std(dist111_01)**2)\n",
    "#k.append(1/np.std(dist112_01)**2)\n",
    "#np.savetxt(\"all_pair_ks_100k_v02.dat\",k)"
   ]
  },
  {
   "cell_type": "code",
   "execution_count": null,
   "metadata": {},
   "outputs": [],
   "source": []
  }
 ],
 "metadata": {
  "kernelspec": {
   "display_name": "Python 3 (ipykernel)",
   "language": "python",
   "name": "python3"
  },
  "language_info": {
   "codemirror_mode": {
    "name": "ipython",
    "version": 3
   },
   "file_extension": ".py",
   "mimetype": "text/x-python",
   "name": "python",
   "nbconvert_exporter": "python",
   "pygments_lexer": "ipython3",
   "version": "3.9.13"
  }
 },
 "nbformat": 4,
 "nbformat_minor": 4
}
